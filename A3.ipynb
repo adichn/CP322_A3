{
 "cells": [
  {
   "cell_type": "markdown",
   "id": "a39bba82",
   "metadata": {},
   "source": [
    "## <center> Assignment 3 </center>\n",
    "\n",
    "#### Name: Aditya Chauhan\n",
    "#### Student ID: 169027493\n",
    "\n",
    "You are provided with a training dataset and a testing dataset for a binary classification problem with labels {0, 1}. The last column of the training dataset contains the labels, while the testing dataset includes only attributes (descriptive features).\n",
    "\n",
    "Train an effective classifier using the training dataset. You may choose your data processing approach, classifier type, and parameter tuning methods as needed. The sklearn package in Python is recommended for implementing your model.\n",
    "\n",
    "Make predictions on the testing dataset and generate a file containing a single column of predicted labels (0 or 1) in the same order as the testing dataset. Ensure that the output file does not include a header and that your prediction.txt file contains exactly one column and 352 rows.\n",
    "\n",
    "Please submit your implementation code and the predicted output file as two separate files (not compressed into a zip file), named <b>A3.ipynb</b> and <b>prediction.txt</b>, respectively. Your assignment will be evaluated based on your model's performance, particularly its F1-score, as well as other criteria."
   ]
  },
  {
   "cell_type": "code",
   "execution_count": 1,
   "id": "2002f4aa",
   "metadata": {},
   "outputs": [],
   "source": [
    "import pandas as pd\n",
    "df_train = pd.read_csv('A3_data/train.csv',sep=',',index_col=0) \n",
    "df_test_attribute_only = pd.read_csv('A3_data/test_attribute.csv',sep=',',index_col=0) "
   ]
  },
  {
   "cell_type": "code",
   "execution_count": 2,
   "id": "71b2a48b",
   "metadata": {},
   "outputs": [
    {
     "name": "stdout",
     "output_type": "stream",
     "text": [
      "Train Dataset Info:\n"
     ]
    },
    {
     "ename": "NameError",
     "evalue": "name 'df_train' is not defined",
     "output_type": "error",
     "traceback": [
      "\u001b[0;31m---------------------------------------------------------------------------\u001b[0m",
      "\u001b[0;31mNameError\u001b[0m                                 Traceback (most recent call last)",
      "Cell \u001b[0;32mIn[2], line 6\u001b[0m\n\u001b[1;32m      1\u001b[0m \u001b[38;5;66;03m## your code here\u001b[39;00m\n\u001b[1;32m      2\u001b[0m \n\u001b[1;32m      3\u001b[0m \u001b[38;5;66;03m# Data Exploration\u001b[39;00m\n\u001b[1;32m      5\u001b[0m \u001b[38;5;28mprint\u001b[39m(\u001b[38;5;124m\"\u001b[39m\u001b[38;5;124mTrain Dataset Info:\u001b[39m\u001b[38;5;124m\"\u001b[39m)\n\u001b[0;32m----> 6\u001b[0m \u001b[38;5;28mprint\u001b[39m(\u001b[43mdf_train\u001b[49m\u001b[38;5;241m.\u001b[39minfo())\n\u001b[1;32m      7\u001b[0m \u001b[38;5;28mprint\u001b[39m(\u001b[38;5;124m\"\u001b[39m\u001b[38;5;130;01m\\n\u001b[39;00m\u001b[38;5;124mTest Dataset Info:\u001b[39m\u001b[38;5;124m\"\u001b[39m)\n\u001b[1;32m      8\u001b[0m \u001b[38;5;28mprint\u001b[39m(df_test_attribute_only\u001b[38;5;241m.\u001b[39minfo())\n",
      "\u001b[0;31mNameError\u001b[0m: name 'df_train' is not defined"
     ]
    }
   ],
   "source": [
    "## your code here\n",
    "\n",
    "# Data Exploration\n",
    "\n",
    "print(\"Train Dataset Info:\")\n",
    "print(df_train.info())\n",
    "print(\"\\nTest Dataset Info:\")\n",
    "print(df_test_attribute_only.info())\n",
    "\n",
    "print(\"\\nTrain Dataset Head:\")\n",
    "print(df_train.head())\n",
    "\n",
    "print(\"\\nTest Dataset Head:\")\n",
    "print(df_test_attribute_only.head())\n",
    "\n",
    "# Separate features and target from the training data\n",
    "\n",
    "X_train = df_train.iloc[:, :-1]  # All columns except the last one\n",
    "y_train = df_train.iloc[:, -1]   # The last column\n",
    "\n",
    "# Check for missing values\n",
    "\n",
    "print(\"\\nMissing Values in Train Dataset:\")\n",
    "print(df_train.isnull().sum())\n",
    "\n",
    "print(\"\\nMissing Values in Test Dataset:\")\n",
    "print(df_test_attribute_only.isnull().sum())\n",
    "\n",
    "# Preprocess the data\n",
    "\n",
    "from sklearn.impute import SimpleImputer\n",
    "from sklearn.preprocessing import StandardScaler\n",
    "\n",
    "# Handle any missing values\n",
    "\n",
    "imputer = SimpleImputer(strategy='mean')\n",
    "X_train = imputer.fit_transform(X_train)\n",
    "X_test = imputer.transform(df_test_attribute_only)\n",
    "\n",
    "# Standardize the data\n",
    "\n",
    "scaler = StandardScaler()\n",
    "X_train = scaler.fit_transform(X_train)\n",
    "X_test = scaler.transform(X_test)\n",
    "\n",
    "# Train the Model\n",
    "\n",
    "from sklearn.ensemble import RandomForestClassifier\n",
    "from sklearn.model_selection import train_test_split\n",
    "from sklearn.metrics import f1_score\n",
    "\n",
    "# Split data for validation\n",
    "\n",
    "X_train_split, X_val, y_train_split, y_val = train_test_split(X_train, y_train, test_size=0.2, random_state=42)\n",
    "\n",
    "# Train a Random Forest Classifier\n",
    "\n",
    "clf = RandomForestClassifier(random_state=42)\n",
    "clf.fit(X_train_split, y_train_split)\n",
    "\n",
    "# Validate the model & Predict on test data\n",
    "\n",
    "y_val_pred = clf.predict(X_val)\n",
    "print(\"\\nF1 Score on Validation Set:\", f1_score(y_val, y_val_pred))\n",
    "y_test_pred = clf.predict(X_test)\n",
    "\n",
    "# Save Predictions to File\n",
    "\n",
    "output_file = 'prediction.txt'\n",
    "with open(output_file, 'w') as f:\n",
    "    for label in y_test_pred:\n",
    "        f.write(f\"{label}\\n\")\n",
    "\n",
    "print(f\"\\nPredictions saved to {output_file}\")\n",
    "\n"
   ]
  },
  {
   "cell_type": "markdown",
   "id": "eea59e06",
   "metadata": {},
   "source": [
    "### Briefly describe your approach in the following cell."
   ]
  },
  {
   "cell_type": "markdown",
   "id": "34c942ae",
   "metadata": {},
   "source": []
  }
 ],
 "metadata": {
  "kernelspec": {
   "display_name": "Python 3",
   "language": "python",
   "name": "python3"
  },
  "language_info": {
   "codemirror_mode": {
    "name": "ipython",
    "version": 3
   },
   "file_extension": ".py",
   "mimetype": "text/x-python",
   "name": "python",
   "nbconvert_exporter": "python",
   "pygments_lexer": "ipython3",
   "version": "3.12.6"
  }
 },
 "nbformat": 4,
 "nbformat_minor": 5
}
