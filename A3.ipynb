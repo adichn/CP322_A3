{
 "cells": [
  {
   "cell_type": "markdown",
   "id": "a39bba82",
   "metadata": {},
   "source": [
    "## <center> Assignment 3 </center>\n",
    "\n",
    "#### Name:\n",
    "#### Student ID:\n",
    "\n",
    "You are provided with a training dataset and a testing dataset for a binary classification problem with labels {0, 1}. The last column of the training dataset contains the labels, while the testing dataset includes only attributes (descriptive features).\n",
    "\n",
    "Train an effective classifier using the training dataset. You may choose your data processing approach, classifier type, and parameter tuning methods as needed. The sklearn package in Python is recommended for implementing your model.\n",
    "\n",
    "Make predictions on the testing dataset and generate a file containing a single column of predicted labels (0 or 1) in the same order as the testing dataset. Ensure that the output file does not include a header and that your prediction.txt file contains exactly one column and 352 rows.\n",
    "\n",
    "Please submit your implementation code and the predicted output file as two separate files (not compressed into a zip file), named <b>A3.ipynb</b> and <b>prediction.txt</b>, respectively. Your assignment will be evaluated based on your model's performance, particularly its F1-score, as well as other criteria."
   ]
  },
  {
   "cell_type": "code",
   "execution_count": null,
   "id": "2002f4aa",
   "metadata": {},
   "outputs": [],
   "source": [
    "import pandas as pd\n",
    "df_train = pd.read_csv('A3_data/train.csv',sep=',',index_col=0) \n",
    "df_test_attribute_only = pd.read_csv('A3_data/test_attribute.csv',sep=',',index_col=0) "
   ]
  },
  {
   "cell_type": "code",
   "execution_count": null,
   "id": "71b2a48b",
   "metadata": {},
   "outputs": [],
   "source": [
    "## your code here\n"
   ]
  },
  {
   "cell_type": "markdown",
   "id": "eea59e06",
   "metadata": {},
   "source": [
    "### Briefly describe your approach in the following cell."
   ]
  },
  {
   "cell_type": "markdown",
   "id": "34c942ae",
   "metadata": {},
   "source": []
  }
 ],
 "metadata": {
  "kernelspec": {
   "display_name": "Python 3 (ipykernel)",
   "language": "python",
   "name": "python3"
  },
  "language_info": {
   "codemirror_mode": {
    "name": "ipython",
    "version": 3
   },
   "file_extension": ".py",
   "mimetype": "text/x-python",
   "name": "python",
   "nbconvert_exporter": "python",
   "pygments_lexer": "ipython3",
   "version": "3.9.13"
  }
 },
 "nbformat": 4,
 "nbformat_minor": 5
}
